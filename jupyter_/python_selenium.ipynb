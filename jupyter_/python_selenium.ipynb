{
 "cells": [
  {
   "cell_type": "markdown",
   "metadata": {},
   "source": [
    "# Python y Selenium (notebook 1)\n",
    "\n",
    "\n",
    "![](./imagenes/chattigo.png)\n",
    "\n",
    "#### **Autor:** Beatriz Pérez Vera\n",
    "\n",
    "\n",
    "## Instaladores\n",
    "Pasos: [tutorial de instalacion Selenium en Python][5]\n",
    "\n",
    "* Python\n",
    "    - [Python][4]\n",
    "    - [Python con el paquete Anaconda][1]\n",
    "* [Selenium][2]\n",
    "* [Pycharm][3] \n",
    "\n",
    "\n",
    "\n",
    "[1]: https://docs.anaconda.com/anaconda/install/\n",
    "[2]: https://selenium-python.readthedocs.io/installation.html\n",
    "[3]: https://www.jetbrains.com/help/pycharm/installation-guide.html#standalone\n",
    "[4]: https://www.Python.org/downloads/\n",
    "[5]: https://www.javatpoint.com/selenium-python"
   ]
  },
  {
   "cell_type": "markdown",
   "metadata": {},
   "source": [
    "## Necesitamos entender:\n",
    "* ¿Qué es el Selenium?\n",
    "* ¿Por qué usamos Selenium para pruebas de automatización?\n",
    "* ¿Qué es Python?\n",
    "* ¿Por qué es útil Python para las pruebas de automatización?\n",
    "* Selenio con Python\n",
    "* Configurar el selenio con Python\n"
   ]
  },
  {
   "cell_type": "markdown",
   "metadata": {},
   "source": [
    "# ¿Qué es el Selenium?\n",
    "* Selenium es un entorno de pruebas de software para aplicaciones basadas en la web.\n",
    "* Proporcionan un API conveniente para acceder a los WebDrivers de Seleni como Firefox, Ie, Chrome, Remote\n",
    "* Pueden escribirse script para varios lenguajes de programación como Java, Python, C#, Ruby, Perl, etc\n",
    "* Puede ser ejecutado en varios sistemas operativos\n",
    "* Los test pueden ser implementados en diferentes navegadores"
   ]
  },
  {
   "cell_type": "markdown",
   "metadata": {},
   "source": [
    "## Python\n",
    "\n",
    "Python es un lenguaje de programación:\n",
    "\n",
    "* Interpretado e Interactivo\n",
    "* De propósito general\n",
    "* Fácil de aprender, programar y **leer** (menos *bugs*)\n",
    "* Orientado a objetos\n",
    "* Tipado dinámico\n",
    "* De *muy alto nivel*\n",
    "* Multiparadigma\n",
    "* Libre y con licencia permisiva\n",
    "* Eficiente\n",
    "* Versátil y potente! \n",
    "* Con gran documentación\n",
    "* Y una gran comunidad de usuarios\n"
   ]
  },
  {
   "cell_type": "markdown",
   "metadata": {},
   "source": [
    "# Selenium en Python\n",
    "## Pasos para instalar Selenium en Python:\n",
    "\n",
    "* Descargar e instalar Python\n",
    "* instalar la libreria de Selenium en Python\n",
    "* Descargar e instalar Pycharm\n"
   ]
  },
  {
   "cell_type": "markdown",
   "metadata": {},
   "source": [
    "# Cosas que deberíamos automatizar:\n",
    "\n",
    "* Procesos que estén en constante revisión con el objetivo de ejecutar la funcionalidad de un módulo por desarrolladores o testers.\n",
    "* Flujos críticos y repetitivos que debemos pasar para llegar a cierto módulo.\n",
    "* Respuestas de servidores con peticiones HTTP.\n",
    "* Validaciones de base de datos hacia la vista.\n",
    "* Configuración en concreto que debe de hacer un usuario para poder entrar al sistema.\n",
    "\n",
    "# Cosas que no deberíamos automatizar:\n",
    "\n",
    "* Procesos que estén en constante revisión con el objetivo de revisar diseño.\n",
    "* Flujos que no es necesario pasar para poder llegar a un módulo.\n",
    "* Procesos de solo contenido.\n",
    "* Automatizar aquellos flujos que se ejecutan en largos periodos de tiempo como por ejemplo una vez al año.\n"
   ]
  },
  {
   "cell_type": "code",
   "execution_count": null,
   "metadata": {},
   "outputs": [],
   "source": []
  }
 ],
 "metadata": {
  "kernelspec": {
   "display_name": "Python 3",
   "language": "python",
   "name": "python3"
  },
  "language_info": {
   "codemirror_mode": {
    "name": "ipython",
    "version": 3
   },
   "file_extension": ".py",
   "mimetype": "text/x-python",
   "name": "python",
   "nbconvert_exporter": "python",
   "pygments_lexer": "ipython3",
   "version": "3.6.8"
  }
 },
 "nbformat": 4,
 "nbformat_minor": 2
}
